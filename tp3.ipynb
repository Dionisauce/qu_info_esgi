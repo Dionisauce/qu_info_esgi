{
 "cells": [
  {
   "cell_type": "code",
   "execution_count": 1,
   "outputs": [],
   "source": [
    "from qiskit import *\n",
    "from qiskit.visualization import plot_histogram"
   ],
   "metadata": {
    "collapsed": false,
    "ExecuteTime": {
     "end_time": "2024-01-12T09:11:47.549877459Z",
     "start_time": "2024-01-12T09:11:47.340450535Z"
    }
   },
   "id": "58a6d23dd3d6970a"
  },
  {
   "cell_type": "code",
   "execution_count": 2,
   "outputs": [
    {
     "data": {
      "text/plain": "\"\\nEnigme 3 : la bibliothèse quantique (algorithme de Grover)\\nL'algorithme de Grover permet d'effectuer une recherche dans une base de données structurée ou non de façon efficace.\\nEn effet lorsqu'on a beaucoup de donnée que l'on ne peut pas trier ou que le tri devient trop couteux,\\non a d'autre choix que de parcourir les données une par une qui est de complexité O(N).\\nL'algorithme de Grover permet de réduire la complexité à O(sqrt(N)), néanmoins le résultat de la recherche n'est pas correct à 100% mais avec une certaine probabilité.\\nIl est necessaire de mettre en place une vérification sur le résultat, et dans le cas ou celui-ci est incorrect de relancer l'algorithme jusqu'à obtenir le bon résultat.\\n\""
     },
     "execution_count": 2,
     "metadata": {},
     "output_type": "execute_result"
    }
   ],
   "source": [
    "\"\"\"\n",
    "Enigme 3 : la bibliothèse quantique (algorithme de Grover)\n",
    "L'algorithme de Grover permet d'effectuer une recherche dans une base de données structurée ou non de façon efficace.\n",
    "En effet lorsqu'on a beaucoup de donnée que l'on ne peut pas trier ou que le tri devient trop couteux,\n",
    "on a d'autre choix que de parcourir les données une par une qui est de complexité O(N).\n",
    "L'algorithme de Grover permet de réduire la complexité à O(sqrt(N)), néanmoins le résultat de la recherche n'est pas correct à 100% mais avec une certaine probabilité.\n",
    "Il est necessaire de mettre en place une vérification sur le résultat, et dans le cas ou celui-ci est incorrect de relancer l'algorithme jusqu'à obtenir le bon résultat.\n",
    "\"\"\""
   ],
   "metadata": {
    "collapsed": false,
    "ExecuteTime": {
     "end_time": "2024-01-12T09:11:47.555069793Z",
     "start_time": "2024-01-12T09:11:47.552104511Z"
    }
   },
   "id": "91dd025142ef41f9"
  },
  {
   "cell_type": "code",
   "execution_count": 3,
   "outputs": [
    {
     "data": {
      "text/plain": "\"\\nPrincipe de fonctionnement de l'algorithme de Grover:\\n- Oracle: L'oracle est une opération qui permet d'inverser la phase de l'élement recherhé qui est essentiel avant d'appliquer l'algorithme de diffusion de Grover.\\n- Diffusion de Grover : Le diffuseur est composé de deux étapes. La première consiste à calculer la moyenne des amplitudes de probabilités,\\n                        puis de prendre la symétrie par rapport à celle-ci. Ce qui a pour effet d'augmenter la probabilité de l'element identifié et de réduire celle des autres.\\n=> Ces deux opérations peuvent être répétées plusieurs fois jusqu'à avoir une amplitude suffisante pour l'élement recherché. En effet plus il y a de donnée, plus il faudra réitérer l'algorithme de Grover. Pour N données il est necessaire d'appliquer environ sqrt(N) fois l'opération de Grover, d'où la complexité O(sqrt(N)) car l'opération de Grover est de complexité O(1)\\n\""
     },
     "execution_count": 3,
     "metadata": {},
     "output_type": "execute_result"
    }
   ],
   "source": [
    "\"\"\"\n",
    "Principe de fonctionnement de l'algorithme de Grover:\n",
    "- Oracle: L'oracle est une opération qui permet d'inverser la phase de l'élement recherhé qui est essentiel avant d'appliquer l'algorithme de diffusion de Grover.\n",
    "- Diffusion de Grover : Le diffuseur est composé de deux étapes. La première consiste à calculer la moyenne des amplitudes de probabilités,\n",
    "                        puis de prendre la symétrie par rapport à celle-ci. Ce qui a pour effet d'augmenter la probabilité de l'element identifié et de réduire celle des autres.\n",
    "=> Ces deux opérations peuvent être répétées plusieurs fois jusqu'à avoir une amplitude suffisante pour l'élement recherché. En effet plus il y a de donnée, plus il faudra réitérer l'algorithme de Grover. Pour N données il est necessaire d'appliquer environ sqrt(N) fois l'opération de Grover, d'où la complexité O(sqrt(N)) car l'opération de Grover est de complexité O(1)\n",
    "\"\"\""
   ],
   "metadata": {
    "collapsed": false,
    "ExecuteTime": {
     "end_time": "2024-01-12T09:11:47.566231357Z",
     "start_time": "2024-01-12T09:11:47.554990600Z"
    }
   },
   "id": "e6ca17110817d67a"
  },
  {
   "cell_type": "code",
   "execution_count": 4,
   "outputs": [
    {
     "name": "stderr",
     "output_type": "stream",
     "text": [
      "/home/duincan/Projects/School/info_q/venv/lib/python3.11/site-packages/qiskit/visualization/circuit/matplotlib.py:266: FutureWarning: The default matplotlib drawer scheme will be changed to \"iqp\" in a following release. To silence this warning, specify the current default explicitly as style=\"clifford\", or the new default as style=\"iqp\".\n",
      "  self._style, def_font_ratio = load_style(self._style)\n"
     ]
    },
    {
     "data": {
      "text/plain": "<Figure size 287.294x200.667 with 1 Axes>",
      "image/png": "[encoded data removed]"
     },
     "execution_count": 4,
     "metadata": {},
     "output_type": "execute_result"
    }
   ],
   "source": [
    "# Implementing the Quantum Circuit\n",
    "# For a simulated database with 4 elements, we use 2 qubits in a superposition state to represent 4 possible states.\n",
    "\n",
    "# Creating a quantum circuit with 2 qubits and applying the Hadamard gate to each for state superposition\n",
    "quantum_circuit = QuantumCircuit(2)\n",
    "quantum_circuit.h([0, 1])\n",
    "\n",
    "#Adding a barrier for visual separation in the circuit diagram\n",
    "\n",
    "quantum_circuit.barrier()\n",
    "quantum_circuit.draw('mpl')"
   ],
   "metadata": {
    "collapsed": false,
    "ExecuteTime": {
     "end_time": "2024-01-12T09:11:47.818423491Z",
     "start_time": "2024-01-12T09:11:47.567507063Z"
    }
   },
   "id": "a0182023990fdaef"
  },
  {
   "cell_type": "code",
   "execution_count": 5,
   "outputs": [
    {
     "data": {
      "text/plain": "<Figure size 621.739x200.667 with 1 Axes>",
      "image/png": "[encoded data removed]"
     },
     "execution_count": 5,
     "metadata": {},
     "output_type": "execute_result"
    }
   ],
   "source": [
    "\"\"\"\n",
    "Applying the Oracle:\n",
    "\n",
    "Target State: '10' (3rd element in our 4-element database)\n",
    "The Oracle inverts the phase of the target state. For state '10', we want to flip the phase if q1=1 and q0=0.\n",
    "We use the Controlled-Z (CZ) gate to flip the phase, but first, we need to ensure both qubits are 1. We apply the X (NOT) gate to q0, then CZ, and finally, revert q0 with another X gate.\n",
    "\"\"\"\n",
    "\n",
    "#Inverting the phase for the target state '10'\n",
    "\n",
    "quantum_circuit.x(0) # Inverting q0\n",
    "quantum_circuit.cz(0, 1) # CZ gate to flip the phase of q1 when both qubits are 1\n",
    "quantum_circuit.x(0) # Reverting q0 to its original state\n",
    "\n",
    "#Another barrier for clarity\n",
    "\n",
    "quantum_circuit.barrier()\n",
    "quantum_circuit.draw('mpl')"
   ],
   "metadata": {
    "collapsed": false,
    "ExecuteTime": {
     "end_time": "2024-01-12T09:11:47.870244915Z",
     "start_time": "2024-01-12T09:11:47.818570977Z"
    }
   },
   "id": "9f80a4b21ec8d6b3"
  },
  {
   "cell_type": "code",
   "execution_count": 6,
   "outputs": [
    {
     "data": {
      "text/plain": "<Figure size 1039.79x200.667 with 1 Axes>",
      "image/png": "[encoded data removed]"
     },
     "execution_count": 6,
     "metadata": {},
     "output_type": "execute_result"
    }
   ],
   "source": [
    "\"\"\"\n",
    "Applying Grover's Diffuser:\n",
    "\n",
    "The diffuser creates a superposition of all states but with the phase of the initial state inverted.\n",
    "It enhances the amplitude of the target state while diminishing others.\n",
    "\"\"\"\n",
    "#Applying Grover's Diffuser\n",
    "\n",
    "quantum_circuit.h([0, 1]) # Hadamard to both qubits\n",
    "quantum_circuit.z([0, 1]) # Z-gate to both qubits\n",
    "quantum_circuit.cz(0, 1) # Controlled-Z for phase flip\n",
    "quantum_circuit.h([0, 1]) # Hadamard again to complete the diffuser\n",
    "\n",
    "#Final barrier before measurement\n",
    "quantum_circuit.barrier()\n",
    "quantum_circuit.draw('mpl')"
   ],
   "metadata": {
    "collapsed": false,
    "ExecuteTime": {
     "end_time": "2024-01-12T09:11:47.940021522Z",
     "start_time": "2024-01-12T09:11:47.879000332Z"
    }
   },
   "id": "d341fe7eba55ba83"
  },
  {
   "cell_type": "code",
   "execution_count": 7,
   "outputs": [],
   "source": [
    "quantum_circuit.measure_all()\n",
    "# circ.measure([])\n",
    "number_of_measurements = 100_000\n",
    "\n",
    "quantum_simulator_backend = Aer.get_backend('qasm_simulator')\n",
    "simulation_job = quantum_simulator_backend.run(transpile(quantum_circuit, quantum_simulator_backend), shots=number_of_measurements)\n",
    "simulation_results = simulation_job.result()\n",
    "measurement_counts = simulation_results.get_counts(quantum_circuit)"
   ],
   "metadata": {
    "collapsed": false,
    "ExecuteTime": {
     "end_time": "2024-01-12T09:11:48.219966933Z",
     "start_time": "2024-01-12T09:11:47.939179705Z"
    }
   },
   "id": "24363802334ac1c0"
  },
  {
   "cell_type": "code",
   "execution_count": 8,
   "outputs": [
    {
     "data": {
      "text/plain": "<Figure size 700x500 with 1 Axes>",
      "image/png": "[encoded data removed]"
     },
     "execution_count": 8,
     "metadata": {},
     "output_type": "execute_result"
    }
   ],
   "source": [
    "total_qubits = quantum_circuit.num_qubits\n",
    "all_possible_states = [format(i, '0' + str(total_qubits) + 'b') for i in range(2 ** total_qubits)]\n",
    "probabilities = {state: measurement_counts.get(state, 0) / number_of_measurements for state in all_possible_states}\n",
    "\n",
    "plot_histogram(probabilities)"
   ],
   "metadata": {
    "collapsed": false,
    "ExecuteTime": {
     "end_time": "2024-01-12T09:11:48.276964428Z",
     "start_time": "2024-01-12T09:11:48.234680626Z"
    }
   },
   "id": "a3d79f78ee8835c"
  },
  {
   "cell_type": "code",
   "execution_count": 9,
   "outputs": [],
   "source": [
    "# On observe bien à la fin une probabilité de 100% d'obtenir l'élement indiqué par l'oracle (10)."
   ],
   "metadata": {
    "collapsed": false,
    "ExecuteTime": {
     "end_time": "2024-01-12T09:11:48.277657134Z",
     "start_time": "2024-01-12T09:11:48.276699520Z"
    }
   },
   "id": "56a1ee0577be2460"
  }
 ],
 "metadata": {
  "kernelspec": {
   "display_name": "Python 3",
   "language": "python",
   "name": "python3"
  },
  "language_info": {
   "codemirror_mode": {
    "name": "ipython",
    "version": 2
   },
   "file_extension": ".py",
   "mimetype": "text/x-python",
   "name": "python",
   "nbconvert_exporter": "python",
   "pygments_lexer": "ipython2",
   "version": "2.7.6"
  }
 },
 "nbformat": 4,
 "nbformat_minor": 5
}
